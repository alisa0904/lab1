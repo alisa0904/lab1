{
  "cells": [
    {
      "cell_type": "markdown",
      "metadata": {
        "id": "vC84e9kzyxPy"
      },
      "source": [
        "<h1>Импорт библиотек"
      ]
    },
    {
      "cell_type": "code",
      "execution_count": null,
      "metadata": {
        "id": "cgKeNegmQG5S"
      },
      "outputs": [],
      "source": [
        "import numpy as np\n",
        "import matplotlib.pyplot as plt"
      ]
    },
    {
      "cell_type": "markdown",
      "metadata": {
        "id": "qFM9uVU2x4Ls"
      },
      "source": [
        "<h1>Задача 1. Дан набор из $p$ матриц размерностью $(n, n)$ и $p$ векторов размерностью $(n, 1)$, найти сумму произведений матриц на векторы. Написать тесты для кода"
      ]
    },
    {
      "cell_type": "code",
      "execution_count": null,
      "metadata": {
        "id": "IAbUvEiYyWFF"
      },
      "outputs": [],
      "source": [
        "def sum_prod(X, V):\n",
        "    '''\n",
        "    X - матрицы (n, n)\n",
        "    V - векторы (n, 1)\n",
        "    Гарантируется, что len(X) == len(V)\n",
        "    '''\n",
        "    # Your code goes here\n",
        "    result = np.zeros_like(V[0])\n",
        "    for mat, vec in zip(X, V):\n",
        "        result += mat @ vec\n",
        "    return result\n",
        "# Тесты\n",
        "def test_sum_prod():\n",
        "    n = 3\n",
        "    p = 4\n",
        "\n",
        "    X = [np.eye(n) * i for i in range(1, p+1)]  # матрицы: диагональные с i на диагонали\n",
        "    V = [np.ones((n,1)) * j for j in range(1, p+1)]  # векторы: в каждом все элементы равны j\n",
        "\n",
        "    expected = sum((mat @ vec) for mat, vec in zip(X, V))\n",
        "    got = sum_prod(X, V)\n",
        "\n",
        "    assert np.allclose(got, expected), f'Expected {expected}, but got {got}'\n",
        "\n",
        "    print(\"Тесты пройдены!\")\n",
        "\n",
        "test_sum_prod()"
      ]
    },
    {
      "cell_type": "markdown",
      "metadata": {
        "id": "TKwPG4fIy2w4"
      },
      "source": [
        "<h1>Задача 2. Дана матрица M, напишите функцию, которая бинаризует матрицу по некоторому threshold (то есть, все значения большие threshold становятся равными 1, иначе 0). Напишите тесты для кода"
      ]
    },
    {
      "cell_type": "code",
      "execution_count": null,
      "metadata": {
        "id": "KQDNMgsjRNH7"
      },
      "outputs": [],
      "source": [
        "def binarize(M, threshold=0.5):\n",
        "    '''\n",
        "    Преобразует матрицу M в бинарную по порогу threshold.\n",
        "    Значения > threshold становятся 1, остальные 0.\n",
        "    '''\n",
        "    return (M > threshold).astype(int)\n",
        "# Тесты\n",
        "def test_binarize():\n",
        "    M = np.array([[0.1, 0.5, 0.6],\n",
        "                  [0.7, 0.3, 0.5],\n",
        "                  [0.4, 0.8, 0.2]])\n",
        "\n",
        "    expected_default = np.array([[0, 0, 1],\n",
        "                                 [1, 0, 0],\n",
        "                                 [0, 1, 0]])\n",
        "    result_default = binarize(M)  # threshold=0.5 по умолчанию\n",
        "    assert np.array_equal(result_default, expected_default), f\"Default threshold failed: {result_default}\"\n",
        "\n",
        "    expected_th_0_3 = np.array([[0, 1, 1],\n",
        "                                [1, 0, 1],\n",
        "                                [1, 1, 0]])\n",
        "    result_th_0_3 = binarize(M, threshold=0.3)\n",
        "    assert np.array_equal(result_th_0_3, expected_th_0_3), f\"Threshold=0.3 failed: {result_th_0_3}\"\n",
        "\n",
        "    print(\"Все тесты пройдены!\")\n",
        "\n",
        "test_binarize()"
      ]
    },
    {
      "cell_type": "markdown",
      "metadata": {
        "id": "IY5L-h-7zWhN"
      },
      "source": [
        "<h1>Задача 3. Напишите функцию, которая возвращает уникальные элементы из каждой строки матрицы. Напишите такую же функцию, но для столбцов. Напишите тесты для кода"
      ]
    },
    {
      "cell_type": "code",
      "execution_count": null,
      "metadata": {
        "id": "-8dEZhR0SBC-"
      },
      "outputs": [],
      "source": [
        "def unique_rows(mat):\n",
        "    '''\n",
        "    Возвращает список уникальных элементов для каждой строки матрицы mat\n",
        "    '''\n",
        "    return [np.unique(row) for row in mat]\n",
        "\n",
        "def unique_columns(mat):\n",
        "    '''\n",
        "    Возвращает список уникальных элементов для каждого столбца матрицы mat\n",
        "    '''\n",
        "    return [np.unique(mat[:, i]) for i in range(mat.shape[1])]\n",
        "\n",
        "# Тесты\n",
        "def test_unique_funcs():\n",
        "    mat = np.array([\n",
        "        [1, 2, 2, 3],\n",
        "        [4, 4, 5, 6],\n",
        "        [7, 8, 8, 7]\n",
        "    ])\n",
        "\n",
        "    expected_rows = [\n",
        "        np.array([1, 2, 3]),\n",
        "        np.array([4, 5, 6]),\n",
        "        np.array([7, 8])\n",
        "    ]\n",
        "    got_rows = unique_rows(mat)\n",
        "    for got, exp in zip(got_rows, expected_rows):\n",
        "        assert np.array_equal(got, exp), f\"Rows test failed: got {got}, expected {exp}\"\n",
        "\n",
        "    expected_cols = [\n",
        "        np.array([1, 4, 7]),\n",
        "        np.array([2, 4, 8]),\n",
        "        np.array([2, 5, 8]),\n",
        "        np.array([3, 6, 7])\n",
        "    ]\n",
        "    got_cols = unique_columns(mat)\n",
        "    for got, exp in zip(got_cols, expected_cols):\n",
        "        assert np.array_equal(got, exp), f\"Columns test failed: got {got}, expected {exp}\"\n",
        "\n",
        "    print(\"Все тесты пройдены!\")\n",
        "\n",
        "test_unique_funcs()\n"
      ]
    },
    {
      "cell_type": "markdown",
      "metadata": {
        "id": "roYAlo4Jz-lH"
      },
      "source": [
        "<h1>Задача 4. Напишите функцию, которая заполняет матрицу с размерами $(m, n)$ случайными числами, распределенными по нормальному закону. Затем считает мат. ожидание и дисперсию для каждого из столбцов и строк, а также строит для каждой строки и столбца гистограмму значений (использовать функцию hist из модуля matplotlib.plot)"
      ]
    },
    {
      "cell_type": "code",
      "execution_count": null,
      "metadata": {
        "id": "nZK_71hMSQzv"
      },
      "outputs": [],
      "source": [
        "def analyze_matrix(m, n, mean=0, std=1):\n",
        "    # Генерация матрицы из случайных чисел с нормальным распределением\n",
        "    M = np.random.normal(loc=mean, scale=std, size=(m, n))\n",
        "    \n",
        "    # Мат. ожидание и дисперсия по строкам\n",
        "    mean_rows = M.mean(axis=1)\n",
        "    var_rows = M.var(axis=1)\n",
        "    \n",
        "    # Мат. ожидание и дисперсия по столбцам\n",
        "    mean_cols = M.mean(axis=0)\n",
        "    var_cols = M.var(axis=0)\n",
        "    \n",
        "    # Печать результатов\n",
        "    print(\"Мат. ожидание по строкам:\", mean_rows)\n",
        "    print(\"Дисперсия по строкам:\", var_rows)\n",
        "    print(\"Мат. ожидание по столбцам:\", mean_cols)\n",
        "    print(\"Дисперсия по столбцам:\", var_cols)\n",
        "    \n",
        "    # Построение гистограмм для строк\n",
        "    for i in range(m):\n",
        "        plt.figure()\n",
        "        plt.hist(M[i, :], bins=20, alpha=0.7, color='blue')\n",
        "        plt.title(f'Гистограмма значений строки {i}')\n",
        "        plt.xlabel('Значение')\n",
        "        plt.ylabel('Частота')\n",
        "        plt.grid(True)\n",
        "\n",
        "    # Построение гистограмм для столбцов\n",
        "    for j in range(n):\n",
        "        plt.figure()\n",
        "        plt.hist(M[:, j], bins=20, alpha=0.7, color='green')\n",
        "        plt.title(f'Гистограмма значений столбца {j}')\n",
        "        plt.xlabel('Значение')\n",
        "        plt.ylabel('Частота')\n",
        "        plt.grid(True)\n",
        "    \n",
        "    plt.show()\n",
        "\n",
        "# Пример вызова\n",
        "analyze_matrix(3, 4)\n"
      ]
    },
    {
      "cell_type": "markdown",
      "metadata": {
        "id": "BDyATNdM0dJ2"
      },
      "source": [
        "<h1>Задача 5. Напишите функцию, которая заполняет матрицу $(m, n)$ в шахматном порядке заданными числами $a$ и $b$. Напишите тесты для кода"
      ]
    },
    {
      "cell_type": "code",
      "execution_count": null,
      "metadata": {
        "id": "RWNJYWQGecS6"
      },
      "outputs": [],
      "source": [
        "def chess(m, n, a, b):\n",
        "    '''\n",
        "    Создаёт матрицу (m, n), заполненную числами a и b в шахматном порядке.\n",
        "    '''\n",
        "    mat = np.zeros((m, n), dtype=type(a))\n",
        "    mat[::2, ::2] = a  # чётные строки и чётные столбцы\n",
        "    mat[1::2, 1::2] = a  # нечётные строки и нечётные столбцы\n",
        "    mat[::2, 1::2] = b  # чётные строки и нечётные столбцы\n",
        "    mat[1::2, ::2] = b  # нечётные строки и чётные столбцы\n",
        "    return mat\n",
        "\n",
        "# Тесты\n",
        "def test_chess():\n",
        "    # Пример 1\n",
        "    expected_1 = np.array([[1, 2, 1, 2],\n",
        "                           [2, 1, 2, 1],\n",
        "                           [1, 2, 1, 2]])\n",
        "    result_1 = chess(3, 4, 1, 2)\n",
        "    assert np.array_equal(result_1, expected_1), f\"Test 1 failed: got\\n{result_1}\"\n",
        "\n",
        "    # Пример 2 - квадратная матрица\n",
        "    expected_2 = np.array([[0, 9],\n",
        "                           [9, 0]])\n",
        "    result_2 = chess(2, 2, 0, 9)\n",
        "    assert np.array_equal(result_2, expected_2), f\"Test 2 failed: got\\n{result_2}\"\n",
        "\n",
        "    print(\"Все тесты пройдены!\")\n",
        "\n",
        "test_chess()\n"
      ]
    },
    {
      "cell_type": "markdown",
      "metadata": {
        "id": "-ymXLtTN0vB6"
      },
      "source": [
        "<h1>Задача 6. Напишите функцию, которая отрисовывает прямоугольник с заданными размерами (a, b) на изображении размера (m, n), цвет фона задайте в схеме RGB, как и цвет прямоугольника. Цвета также должны быть параметрами функции. Напишите аналогичную функцию но для овала с полуосями a и b. Напишите тесты для кода.\n",
        "Примечание: уравнение эллипса (границы овала) можно записать как:\n",
        "<h1>$\\frac{(x-x_0)^2}{a^2}+\\frac{(y-y_0)^2}{b^2}=1$"
      ]
    },
    {
      "cell_type": "code",
      "execution_count": null,
      "metadata": {
        "id": "sNfl1t_kfOF4"
      },
      "outputs": [],
      "source": [
        "def draw_rectangle(a, b, m, n, rectangle_color, background_color):\n",
        "    '''\n",
        "    Рисует изображение (m, n, 3) с фоном background_color и прямоугольником размера (a, b) в центре,\n",
        "    прямоугольник окрашен в rectangle_color.\n",
        "    '''\n",
        "    img = np.full((m, n, 3), background_color, dtype=np.uint8)\n",
        "    \n",
        "    top = (m - a) // 2\n",
        "    left = (n - b) // 2\n",
        "    \n",
        "    # Заполняем прямоугольник\n",
        "    img[top:top+a, left:left+b] = rectangle_color\n",
        "    \n",
        "    plt.imshow(img)\n",
        "    plt.axis('off')\n",
        "    plt.title('Rectangle')\n",
        "    plt.show()\n",
        "    \n",
        "    return img\n",
        "\n",
        "\n",
        "def draw_ellipse(a, b, m, n, ellipse_color, background_color):\n",
        "    '''\n",
        "    Рисует изображение (m, n, 3) с фоном background_color и овальным эллипсом с полуосями a,b в центре,\n",
        "    окрашенным в ellipse_color.\n",
        "    '''\n",
        "    img = np.full((m, n, 3), background_color, dtype=np.uint8)\n",
        "    \n",
        "    y0, x0 = m // 2, n // 2\n",
        "    \n",
        "    for i in range(m):\n",
        "        for j in range(n):\n",
        "            # Уравнение эллипса в дискретных координатах\n",
        "            val = ((i - y0) ** 2) / a ** 2 + ((j - x0) ** 2) / b ** 2\n",
        "            if val <= 1:\n",
        "                img[i, j] = ellipse_color\n",
        "    \n",
        "    plt.imshow(img)\n",
        "    plt.axis('off')\n",
        "    plt.title('Ellipse')\n",
        "    plt.show()\n",
        "    \n",
        "    return img\n",
        "\n",
        "# Тесты\n",
        "def test_draw_shapes():\n",
        "    rect_color = [255, 0, 0]  # красный\n",
        "    bg_color = [0, 0, 0]      # черный\n",
        "    \n",
        "    img_rect = draw_rectangle(50, 100, 200, 300, rect_color, bg_color)\n",
        "    assert img_rect.shape == (200, 300, 3)\n",
        "    # Проверка центра прямоугольника по цвету\n",
        "    center_rect = img_rect[75, 100]\n",
        "    assert (center_rect == rect_color).all()\n",
        "    \n",
        "    ellipse_color = [0, 255, 0]  # зеленый\n",
        "    img_ellipse = draw_ellipse(60, 40, 200, 300, ellipse_color, bg_color)\n",
        "    assert img_ellipse.shape == (200, 300, 3)\n",
        "    # Проверка центра овала\n",
        "    center_ellipse = img_ellipse[100, 150]\n",
        "    assert (center_ellipse == ellipse_color).all()\n",
        "    \n",
        "    print(\"Тесты успешно пройдены!\")\n",
        "\n",
        "test_draw_shapes()\n"
      ]
    },
    {
      "cell_type": "markdown",
      "metadata": {
        "id": "S82c38oz244H"
      },
      "source": [
        "<h1>Задача 7. Дан некий временной ряд. Для данного ряда нужно найти его: математическое ожидание, дисперсию, СКО, найти все локальные максимумы и минимумы (локальный максимум - это точка, которая больше своих соседних точек, а локальный минимум - это точка, которая меньше своих соседей), а также вычислить для данного ряда другой ряд, получаемый методом скользящего среднего с размером окна $p$.\n",
        "<h1>Примечание: метод скользящего среднего подразумевает нахождение среднего из подмножетсва ряда размером $p$"
      ]
    },
    {
      "cell_type": "code",
      "execution_count": null,
      "metadata": {
        "id": "Zb9mIVge5MMt"
      },
      "outputs": [],
      "source": [
        "def analyze_time_series(series, p):\n",
        "    '''\n",
        "    series - одномерный numpy массив с временным рядом\n",
        "    p - размер окна для скользящего среднего (int)\n",
        "    Возвращает:\n",
        "     - mean_value: математическое ожидание ряда\n",
        "     - variance: дисперсия ряда\n",
        "     - std_dev: среднеквадратичное отклонение\n",
        "     - local_maxima: индексы локальных максимумов\n",
        "     - local_minima: индексы локальных минимумов\n",
        "     - moving_avg: numpy массив скользящего среднего\n",
        "    '''\n",
        "    mean_value = np.mean(series)\n",
        "    variance = np.var(series)\n",
        "    std_dev = np.std(series)\n",
        "\n",
        "    local_maxima = []\n",
        "    local_minima = []\n",
        "\n",
        "    n = len(series)\n",
        "    for i in range(1, n-1):\n",
        "        if series[i] > series[i-1] and series[i] > series[i+1]:\n",
        "            local_maxima.append(i)\n",
        "        if series[i] < series[i-1] and series[i] < series[i+1]:\n",
        "            local_minima.append(i)\n",
        "\n",
        "    # Вычисление скользящего среднего с окном p\n",
        "    moving_avg = np.convolve(series, np.ones(p)/p, mode='valid')  \n",
        "\n",
        "    return mean_value, variance, std_dev, local_maxima, local_minima, moving_avg\n",
        "\n",
        "# Тесты\n",
        "def test_analyze_time_series():\n",
        "    data = np.array([1, 3, 2, 4, 3, 5, 4, 6, 5])\n",
        "    p = 3\n",
        "\n",
        "    mean_val, var, std, maxima, minima, mov_avg = analyze_time_series(data, p)\n",
        "\n",
        "    assert np.isclose(mean_val, np.mean(data)), \"Ошибка в среднем\"\n",
        "    assert np.isclose(var, np.var(data)), \"Ошибка в дисперсии\"\n",
        "    assert np.isclose(std, np.std(data)), \"Ошибка в СКО\"\n",
        "    assert maxima == [1, 3, 5, 7], f\"Локальные максимумы неверны: {maxima}\"\n",
        "    assert minima == [2, 4, 6], f\"Локальные минимумы неверны: {minima}\"\n",
        "    expected_moving_avg = np.convolve(data, np.ones(p)/p, mode='valid')\n",
        "    assert np.allclose(mov_avg, expected_moving_avg), \"Ошибка в скользящем среднем\"\n",
        "\n",
        "    print(\"Все тесты пройдены!\")\n",
        "\n",
        "test_analyze_time_series()\n"
      ]
    },
    {
      "cell_type": "markdown",
      "metadata": {
        "id": "jPkylmOX5O9n"
      },
      "source": [
        "<h1> Задача 8. Дан некоторый вектор с целочисленными метками классов, напишите функцию, которая выполняет one-hot-encoding для данного вектора\n",
        "<h1> One-hot-encoding - представление, в котором на месте метки некоторого класса стоит 1, в остальных позициях стоит 0. Например для вектора [0, 2, 3, 0] one-hot-encoding выглядит как: [[1, 0, 0, 0], [0, 0, 1, 0], [0, 0, 0, 1], [1, 0, 0, 0]]"
      ]
    },
    {
      "cell_type": "code",
      "execution_count": null,
      "metadata": {
        "id": "Y-jlnZvw56lD"
      },
      "outputs": [],
      "source": [
        "def one_hot_encode(labels):\n",
        "    '''\n",
        "    Создает матрицу one-hot кодирования из вектора меток labels.\n",
        "    '''\n",
        "    n_classes = np.max(labels) + 1  # число уникальных классов\n",
        "    return np.eye(n_classes)[labels]\n",
        "\n",
        "# Пример использования:\n",
        "labels = np.array([0, 2, 3, 0])\n",
        "encoded = one_hot_encode(labels)\n",
        "print(encoded)\n"
      ]
    }
  ],
  "metadata": {
    "colab": {
      "provenance": []
    },
    "kernelspec": {
      "display_name": "Python 3",
      "name": "python3"
    },
    "language_info": {
      "name": "python"
    }
  },
  "nbformat": 4,
  "nbformat_minor": 0
}
