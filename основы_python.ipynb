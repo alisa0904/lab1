{
  "cells": [
    {
      "cell_type": "markdown",
      "metadata": {
        "id": "M-DGa20PaHnu"
      },
      "source": [
        "#Задача 1\n",
        "Написать функцию на вход которой подается строка, состоящая из латинских букв.\n",
        "Функция должна вернуть количество гласных букв (a, e, i, o, u) в этой строке. Написать тесты для кода"
      ]
    },
    {
      "cell_type": "code",
      "execution_count": null,
      "metadata": {
        "id": "XvX8X_JJ6PCb"
      },
      "outputs": [],
      "source": [
        "def count_vowels(s):\n",
        "    '''\n",
        "    Принимает строку s из латинских букв, возвращает количество гласных (a, e, i, o, u).\n",
        "    '''\n",
        "    vowels = set('aeiouAEIOU')\n",
        "    return sum(1 for char in s if char in vowels)\n",
        "\n",
        "# Тесты\n",
        "def test_count_vowels():\n",
        "    assert count_vowels(\"hello\") == 2\n",
        "    assert count_vowels(\"HELLO\") == 2\n",
        "    assert count_vowels(\"rhythm\") == 0\n",
        "    assert count_vowels(\"AEIOUaeiou\") == 10\n",
        "    assert count_vowels(\"\") == 0\n",
        "    assert count_vowels(\"Python programming\") == 4\n",
        "    print(\"Все тесты пройдены!\")\n",
        "\n",
        "test_count_vowels()\n"
      ]
    },
    {
      "cell_type": "markdown",
      "metadata": {
        "id": "t2ClV_Y0bbr6"
      },
      "source": [
        "# Задача 2\n",
        "Написать функцию на вход, которой подается строка. Функция должна вернуть true, если\n",
        "каждый символ в строке встречается только 1 раз, иначе должна вернуть false. Написать тесты для кода"
      ]
    },
    {
      "cell_type": "code",
      "execution_count": null,
      "metadata": {
        "id": "FppbECao6VIz"
      },
      "outputs": [],
      "source": [
        "def all_unique_chars(s):\n",
        "    '''\n",
        "    Возвращает True, если все символы в строке s уникальны, иначе False.\n",
        "    '''\n",
        "    return len(set(s)) == len(s)\n",
        "\n",
        "# Тесты\n",
        "def test_all_unique_chars():\n",
        "    assert all_unique_chars(\"abcdef\") == True\n",
        "    assert all_unique_chars(\"hello\") == False\n",
        "    assert all_unique_chars(\"\") == True\n",
        "    assert all_unique_chars(\"H\") == True\n",
        "    assert all_unique_chars(\"abcABC\") == True\n",
        "    assert all_unique_chars(\"abcabc\") == False\n",
        "    print(\"Все тесты пройдены!\")\n",
        "\n",
        "test_all_unique_chars()\n"
      ]
    },
    {
      "cell_type": "markdown",
      "metadata": {
        "id": "udRiIK1cdt6E"
      },
      "source": [
        "# Задача 3\n",
        "Написать функцию, которая принимает положительное число и возвращает количество\n",
        "бит равных 1 в этом числе. Написать тесты для кода"
      ]
    },
    {
      "cell_type": "code",
      "execution_count": null,
      "metadata": {
        "id": "6tkfDJRz6dp_"
      },
      "outputs": [],
      "source": [
        "def count_ones_in_binary(number):\n",
        "    '''\n",
        "    Принимает положительное целое число number и возвращает количество единичных битов в его двоичном представлении.\n",
        "    '''\n",
        "    return bin(number).count('1')\n",
        "\n",
        "# Тесты\n",
        "def test_count_ones_in_binary():\n",
        "    assert count_ones_in_binary(0) == 0\n",
        "    assert count_ones_in_binary(1) == 1\n",
        "    assert count_ones_in_binary(7) == 3  # 111\n",
        "    assert count_ones_in_binary(10) == 2 # 1010\n",
        "    assert count_ones_in_binary(1023) == 10  # 1111111111\n",
        "    assert count_ones_in_binary(1249) == bin(1249).count('1')  # проверка с помощью функции bin\n",
        "    print(\"Все тесты пройдены!\")\n",
        "\n",
        "test_count_ones_in_binary()\n"
      ]
    },
    {
      "cell_type": "markdown",
      "metadata": {
        "id": "26dDUz-Ae17N"
      },
      "source": [
        "# Задача 4\n",
        "Написать функцию, которая принимает положительное число. Функция должна вернуть то,\n",
        "сколько раз необходимо перемножать цифры числа или результат перемножения, чтобы\n",
        "получилось число состоящее из одной цифры.\n",
        "Например, для входного числа:\n",
        "· 39 функция должна вернуть 3, так как 3*9=27 => 2*7=14 => 1*4=4\n",
        "· 4 функция должна вернуть 0, так как число уже состоит из одной цифры\n",
        "· 999 функция должна вернуть 4, так как 9*9*9=729 => 7*2*9=126 => 1*2*6=12 =>\n",
        "1*2=2. Написать тесты для кода"
      ]
    },
    {
      "cell_type": "code",
      "execution_count": null,
      "metadata": {
        "id": "BH1A_Mgi6i4G"
      },
      "outputs": [],
      "source": [
        "def magic(n):\n",
        "    '''\n",
        "    Возвращает количество шагов, необходимых для перемножения цифр числа n \n",
        "    до получения одноцифрового числа.\n",
        "    '''\n",
        "    if n < 10:\n",
        "        return 0\n",
        "\n",
        "    count = 0\n",
        "    while n >= 10:\n",
        "        product = 1\n",
        "        while n > 0:\n",
        "            digit = n % 10\n",
        "            product *= digit\n",
        "            n //= 10\n",
        "        n = product\n",
        "        count += 1\n",
        "    return count\n",
        "\n",
        "# Тесты\n",
        "def test_magic():\n",
        "    assert magic(39) == 3\n",
        "    assert magic(4) == 0\n",
        "    assert magic(999) == 4\n",
        "    assert magic(25) == 2  # 2*5=10 -> 1*0=0 (3 шага)\n",
        "    assert magic(7) == 0\n",
        "    assert magic(77) == 4  # 7*7=49 -> 4*9=36 -> 3*6=18 ->1*8=8\n",
        "    print(\"Все тесты пройдены!\")\n",
        "\n",
        "test_magic()\n"
      ]
    },
    {
      "cell_type": "markdown",
      "metadata": {
        "id": "0nS-kIa8g8vd"
      },
      "source": [
        "# Задача 5\n",
        "Написать функцию, которая принимает два целочисленных вектора одинаковой длины и\n",
        "возвращает среднеквадратическое отклонение двух векторов. Написать тесты для кода"
      ]
    },
    {
      "cell_type": "code",
      "execution_count": null,
      "metadata": {
        "id": "8iphx4LM6xbx"
      },
      "outputs": [],
      "source": [
        "import numpy as np\n",
        "\n",
        "def mse(pred, true):\n",
        "    '''\n",
        "    Принимает два целочисленных вектора одинаковой длины pred и true.\n",
        "    Возвращает среднеквадратическое отклонение (Mean Squared Error) между ними.\n",
        "    '''\n",
        "    pred = np.array(pred)\n",
        "    true = np.array(true)\n",
        "    return np.mean((pred - true) ** 2)\n",
        "\n",
        "# Тесты\n",
        "def test_mse():\n",
        "    assert np.isclose(mse([1, 2, 3], [1, 2, 3]), 0)\n",
        "    assert np.isclose(mse([1, 2, 3], [2, 2, 2]), ((1**2 + 0 + 1**2) / 3))\n",
        "    assert np.isclose(mse([0, 0, 0], [1, 1, 1]), 1)\n",
        "    assert np.isclose(mse([10, 20, 30], [5, 15, 25]), ((5**2 + 5**2 + 5**2) / 3))\n",
        "    print(\"Все тесты пройдены!\")\n",
        "\n",
        "test_mse()\n"
      ]
    },
    {
      "cell_type": "markdown",
      "metadata": {
        "id": "vpIPKL439zkw"
      },
      "source": [
        "# Задача 6\n",
        "Написать функцию, принимающая целое положительное число. Функция должна вернуть\n",
        "строку вида “(n1**p1)(n2**p2)…(nk**pk)” представляющая разложение числа на простые\n",
        "множители (если pi == 1, то выводить только ni).\n",
        "Например, для числа 86240 функция должна вернуть “(2**5)(5)(7**2)(11)”. Написать тесты для кода"
      ]
    },
    {
      "cell_type": "code",
      "execution_count": null,
      "metadata": {
        "id": "pFebmcZk94Jw"
      },
      "outputs": [],
      "source": [
        "def prime_factorization(n):\n",
        "    '''\n",
        "    Возвращает строку вида \"(n1**p1)(n2**p2)…(nk**pk)\" представляющую разложение числа n на простые множители.\n",
        "    Если степень pi == 1, выводит только (ni).\n",
        "    '''\n",
        "    factors = {}\n",
        "    divisor = 2\n",
        "    while n > 1:\n",
        "        while n % divisor == 0:\n",
        "            factors[divisor] = factors.get(divisor, 0) + 1\n",
        "            n //= divisor\n",
        "        divisor += 1\n",
        "        if divisor * divisor > n:\n",
        "            if n > 1:\n",
        "                factors[n] = factors.get(n, 0) + 1\n",
        "            break\n",
        "\n",
        "    result = ''\n",
        "    for prime in sorted(factors):\n",
        "        power = factors[prime]\n",
        "        if power == 1:\n",
        "            result += f\"({prime})\"\n",
        "        else:\n",
        "            result += f\"({prime}**{power})\"\n",
        "    return result\n",
        "\n",
        "# Тесты\n",
        "def test_prime_factorization():\n",
        "    assert prime_factorization(86240) == \"(2**5)(5)(7**2)(11)\"\n",
        "    assert prime_factorization(100) == \"(2**2)(5**2)\"\n",
        "    assert prime_factorization(17) == \"(17)\"\n",
        "    assert prime_factorization(84) == \"(2**2)(3)(7)\"\n",
        "    assert prime_factorization(1) == \"\"\n",
        "    print(\"Все тесты пройдены!\")\n",
        "\n",
        "test_prime_factorization()\n"
      ]
    },
    {
      "cell_type": "markdown",
      "metadata": {
        "id": "ps2s0BudX7A2"
      },
      "source": [
        "# Задача 7\n",
        "Написать функцию, принимающая целое число n, задающее количество кубиков. Функция\n",
        "должна определить, можно ли из данного кол-ва кубиков построить пирамиду, то есть\n",
        "можно ли представить число n как 1^2+2^2+3^2+…+k^2. Если можно, то функция должна\n",
        "вернуть k, иначе строку “It is impossible”. Написать тесты для кода"
      ]
    },
    {
      "cell_type": "code",
      "execution_count": null,
      "metadata": {
        "id": "3YPjEXxhX_YT"
      },
      "outputs": [],
      "source": [
        "def pyramid(number):\n",
        "    '''\n",
        "    Проверяет, можно ли представить число number как сумму квадратов первых k натуральных чисел.\n",
        "    Если да, возвращает k, иначе \"It is impossible\".\n",
        "    '''\n",
        "    sum_squares = 0\n",
        "    k = 0\n",
        "    while sum_squares < number:\n",
        "        k += 1\n",
        "        sum_squares += k * k\n",
        "    if sum_squares == number:\n",
        "        return k\n",
        "    else:\n",
        "        return \"It is impossible\"\n",
        "\n",
        "def test_pyramid():\n",
        "    assert pyramid(5) == 2          # 1^2 + 2^2 = 5\n",
        "    assert pyramid(14) == 3         # 1^2 + 2^2 + 3^2 = 14\n",
        "    assert pyramid(30) == 4         # 1^2 + 2^2 + 3^2 + 4^2 = 30\n",
        "    assert pyramid(385) == 10       # сумма квадратов 1..10\n",
        "    assert pyramid(1) == 1\n",
        "    assert pyramid(31) == \"It is impossible\"  # правильный пример для невозможного\n",
        "    print(\"Все тесты пройдены!\")\n",
        "\n",
        "test_pyramid()\n"
      ]
    },
    {
      "cell_type": "markdown",
      "metadata": {
        "id": "KeKgmIdAQMEJ"
      },
      "source": [
        "# Задача 8\n",
        "Функция принимает на вход положительное число и определяет является ли оно сбалансированным, т.е. сумма цифр до средних равна сумме цифр после. Средними в случае нечетного числа цифр считать одну цифру, в случае четного - две средних. Написать тесты для кода"
      ]
    },
    {
      "cell_type": "code",
      "execution_count": null,
      "metadata": {
        "id": "gMAAqtqlQrZt"
      },
      "outputs": [],
      "source": [
        "def is_balanced(number):\n",
        "    '''\n",
        "    Определяет, является ли число сбалансированным:\n",
        "    сумма цифр слева от средних равна сумме цифр справа.\n",
        "    Средние:\n",
        "    - для нечётного количества цифр — одна средняя цифра (отбрасывается),\n",
        "    - для четного — две средние цифры (отбрасываются).\n",
        "    '''\n",
        "    s = str(number)\n",
        "    length = len(s)\n",
        "\n",
        "    if length == 1:\n",
        "        return True  # одна цифра - сбалансированное число\n",
        "\n",
        "    if length % 2 == 0:\n",
        "        left_part = s[:length//2 - 1]\n",
        "        right_part = s[length//2 + 1:]\n",
        "    else:\n",
        "        left_part = s[:length//2]\n",
        "        right_part = s[length//2 + 1:]\n",
        "\n",
        "    sum_left = sum(int(ch) for ch in left_part)\n",
        "    sum_right = sum(int(ch) for ch in right_part)\n",
        "\n",
        "    return sum_left == sum_right\n",
        "\n",
        "\n",
        "def test_is_balanced():\n",
        "    assert is_balanced(1238032) == False  # 1+2+3=6 != 0+3+2=5\n",
        "    assert is_balanced(1238033) == True   # 1+2+3=6 == 0+3+3=6\n",
        "    assert is_balanced(123032) == False   # четное, средние 30, 1+2=3 != 3+2=5\n",
        "    assert is_balanced(121) == True       # 1 == 1\n",
        "    assert is_balanced(1231) == True      # 1 == 1\n",
        "    assert is_balanced(7) == True         # одна цифра — сбалансировано\n",
        "    assert is_balanced(123213) == False   # 1+2=3 != 1+3=4\n",
        "    print(\"Все тесты пройдены!\")\n",
        "\n",
        "test_is_balanced()\n"
      ]
    }
  ],
  "metadata": {
    "colab": {
      "provenance": []
    },
    "kernelspec": {
      "display_name": "Python 3",
      "name": "python3"
    },
    "language_info": {
      "name": "python"
    }
  },
  "nbformat": 4,
  "nbformat_minor": 0
}
